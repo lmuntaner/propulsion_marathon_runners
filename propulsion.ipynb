{
 "cells": [
  {
   "cell_type": "code",
   "execution_count": 1,
   "metadata": {
    "collapsed": false
   },
   "outputs": [
    {
     "name": "stdout",
     "output_type": "stream",
     "text": [
      "done...\n"
     ]
    }
   ],
   "source": [
    "import scipy\n",
    "import numpy as np\n",
    "import pandas as pd\n",
    "import seaborn as sns\n",
    "import matplotlib.pyplot as plt\n",
    "import plotly.plotly as py\n",
    "from sklearn.linear_model import LinearRegression\n",
    "\n",
    "print 'done...'"
   ]
  },
  {
   "cell_type": "markdown",
   "metadata": {},
   "source": [
    "## Data Analysis for Propulsion Data Science Bootcamp\n",
    "\n",
    "First of all let's read the data and merge both data sets using the `unique_id`"
   ]
  },
  {
   "cell_type": "code",
   "execution_count": 2,
   "metadata": {
    "collapsed": false
   },
   "outputs": [
    {
     "data": {
      "text/html": [
       "<div>\n",
       "<table border=\"1\" class=\"dataframe\">\n",
       "  <thead>\n",
       "    <tr style=\"text-align: right;\">\n",
       "      <th></th>\n",
       "      <th>netTime</th>\n",
       "      <th>clockTime</th>\n",
       "      <th>unique_id</th>\n",
       "    </tr>\n",
       "  </thead>\n",
       "  <tbody>\n",
       "    <tr>\n",
       "      <th>0</th>\n",
       "      <td>7661</td>\n",
       "      <td>7661</td>\n",
       "      <td>354658649da56c20c72b6689d2b7e1b8cc334ac9</td>\n",
       "    </tr>\n",
       "    <tr>\n",
       "      <th>1</th>\n",
       "      <td>7737</td>\n",
       "      <td>7737</td>\n",
       "      <td>1da607e762ac07eba6f9b5a717e9ff196d987242</td>\n",
       "    </tr>\n",
       "    <tr>\n",
       "      <th>2</th>\n",
       "      <td>7747</td>\n",
       "      <td>7747</td>\n",
       "      <td>1de4a95cef28c290ba5790217288f510afc3b26b</td>\n",
       "    </tr>\n",
       "    <tr>\n",
       "      <th>3</th>\n",
       "      <td>7750</td>\n",
       "      <td>7750</td>\n",
       "      <td>12215d93d2cb5b0234991a64d097955338a73dd3</td>\n",
       "    </tr>\n",
       "    <tr>\n",
       "      <th>4</th>\n",
       "      <td>8163</td>\n",
       "      <td>8163</td>\n",
       "      <td>5375986567be20b49067956e989884908fb807f6</td>\n",
       "    </tr>\n",
       "  </tbody>\n",
       "</table>\n",
       "</div>"
      ],
      "text/plain": [
       "   netTime  clockTime                                 unique_id\n",
       "0     7661       7661  354658649da56c20c72b6689d2b7e1b8cc334ac9\n",
       "1     7737       7737  1da607e762ac07eba6f9b5a717e9ff196d987242\n",
       "2     7747       7747  1de4a95cef28c290ba5790217288f510afc3b26b\n",
       "3     7750       7750  12215d93d2cb5b0234991a64d097955338a73dd3\n",
       "4     8163       8163  5375986567be20b49067956e989884908fb807f6"
      ]
     },
     "execution_count": 2,
     "metadata": {},
     "output_type": "execute_result"
    }
   ],
   "source": [
    "times = pd.read_csv('marathon_times.csv')\n",
    "times.head()"
   ]
  },
  {
   "cell_type": "code",
   "execution_count": 3,
   "metadata": {
    "collapsed": false
   },
   "outputs": [
    {
     "data": {
      "text/html": [
       "<div>\n",
       "<table border=\"1\" class=\"dataframe\">\n",
       "  <thead>\n",
       "    <tr style=\"text-align: right;\">\n",
       "      <th></th>\n",
       "      <th>ageClass</th>\n",
       "      <th>sex</th>\n",
       "      <th>nationality</th>\n",
       "      <th>treatment</th>\n",
       "      <th>unique_id</th>\n",
       "    </tr>\n",
       "  </thead>\n",
       "  <tbody>\n",
       "    <tr>\n",
       "      <th>0</th>\n",
       "      <td>20</td>\n",
       "      <td>M</td>\n",
       "      <td>KEN</td>\n",
       "      <td>Treatment</td>\n",
       "      <td>354658649da56c20c72b6689d2b7e1b8cc334ac9</td>\n",
       "    </tr>\n",
       "    <tr>\n",
       "      <th>1</th>\n",
       "      <td>20</td>\n",
       "      <td>M</td>\n",
       "      <td>KEN</td>\n",
       "      <td>Treatment</td>\n",
       "      <td>1da607e762ac07eba6f9b5a717e9ff196d987242</td>\n",
       "    </tr>\n",
       "    <tr>\n",
       "      <th>2</th>\n",
       "      <td>20</td>\n",
       "      <td>M</td>\n",
       "      <td>KEN</td>\n",
       "      <td>Control</td>\n",
       "      <td>1de4a95cef28c290ba5790217288f510afc3b26b</td>\n",
       "    </tr>\n",
       "    <tr>\n",
       "      <th>3</th>\n",
       "      <td>30</td>\n",
       "      <td>M</td>\n",
       "      <td>KEN</td>\n",
       "      <td>Control</td>\n",
       "      <td>12215d93d2cb5b0234991a64d097955338a73dd3</td>\n",
       "    </tr>\n",
       "    <tr>\n",
       "      <th>4</th>\n",
       "      <td>30</td>\n",
       "      <td>M</td>\n",
       "      <td>KEN</td>\n",
       "      <td>Treatment</td>\n",
       "      <td>5375986567be20b49067956e989884908fb807f6</td>\n",
       "    </tr>\n",
       "  </tbody>\n",
       "</table>\n",
       "</div>"
      ],
      "text/plain": [
       "  ageClass sex nationality  treatment  \\\n",
       "0       20   M         KEN  Treatment   \n",
       "1       20   M         KEN  Treatment   \n",
       "2       20   M         KEN    Control   \n",
       "3       30   M         KEN    Control   \n",
       "4       30   M         KEN  Treatment   \n",
       "\n",
       "                                  unique_id  \n",
       "0  354658649da56c20c72b6689d2b7e1b8cc334ac9  \n",
       "1  1da607e762ac07eba6f9b5a717e9ff196d987242  \n",
       "2  1de4a95cef28c290ba5790217288f510afc3b26b  \n",
       "3  12215d93d2cb5b0234991a64d097955338a73dd3  \n",
       "4  5375986567be20b49067956e989884908fb807f6  "
      ]
     },
     "execution_count": 3,
     "metadata": {},
     "output_type": "execute_result"
    }
   ],
   "source": [
    "attributes = pd.read_csv('runner_attributes.csv')\n",
    "attributes.head()"
   ]
  },
  {
   "cell_type": "code",
   "execution_count": 4,
   "metadata": {
    "collapsed": false
   },
   "outputs": [
    {
     "data": {
      "text/html": [
       "<div>\n",
       "<table border=\"1\" class=\"dataframe\">\n",
       "  <thead>\n",
       "    <tr style=\"text-align: right;\">\n",
       "      <th></th>\n",
       "      <th>ageClass</th>\n",
       "      <th>sex</th>\n",
       "      <th>nationality</th>\n",
       "      <th>treatment</th>\n",
       "      <th>unique_id_attribute</th>\n",
       "      <th>netTime</th>\n",
       "      <th>clockTime</th>\n",
       "      <th>unique_id_time</th>\n",
       "    </tr>\n",
       "  </thead>\n",
       "  <tbody>\n",
       "    <tr>\n",
       "      <th>0</th>\n",
       "      <td>20</td>\n",
       "      <td>M</td>\n",
       "      <td>KEN</td>\n",
       "      <td>Treatment</td>\n",
       "      <td>354658649da56c20c72b6689d2b7e1b8cc334ac9</td>\n",
       "      <td>7661.0</td>\n",
       "      <td>7661.0</td>\n",
       "      <td>354658649da56c20c72b6689d2b7e1b8cc334ac9</td>\n",
       "    </tr>\n",
       "    <tr>\n",
       "      <th>1</th>\n",
       "      <td>20</td>\n",
       "      <td>M</td>\n",
       "      <td>KEN</td>\n",
       "      <td>Treatment</td>\n",
       "      <td>1da607e762ac07eba6f9b5a717e9ff196d987242</td>\n",
       "      <td>7737.0</td>\n",
       "      <td>7737.0</td>\n",
       "      <td>1da607e762ac07eba6f9b5a717e9ff196d987242</td>\n",
       "    </tr>\n",
       "    <tr>\n",
       "      <th>2</th>\n",
       "      <td>20</td>\n",
       "      <td>M</td>\n",
       "      <td>KEN</td>\n",
       "      <td>Control</td>\n",
       "      <td>1de4a95cef28c290ba5790217288f510afc3b26b</td>\n",
       "      <td>7747.0</td>\n",
       "      <td>7747.0</td>\n",
       "      <td>1de4a95cef28c290ba5790217288f510afc3b26b</td>\n",
       "    </tr>\n",
       "    <tr>\n",
       "      <th>3</th>\n",
       "      <td>30</td>\n",
       "      <td>M</td>\n",
       "      <td>KEN</td>\n",
       "      <td>Control</td>\n",
       "      <td>12215d93d2cb5b0234991a64d097955338a73dd3</td>\n",
       "      <td>7750.0</td>\n",
       "      <td>7750.0</td>\n",
       "      <td>12215d93d2cb5b0234991a64d097955338a73dd3</td>\n",
       "    </tr>\n",
       "    <tr>\n",
       "      <th>4</th>\n",
       "      <td>30</td>\n",
       "      <td>M</td>\n",
       "      <td>KEN</td>\n",
       "      <td>Treatment</td>\n",
       "      <td>5375986567be20b49067956e989884908fb807f6</td>\n",
       "      <td>8163.0</td>\n",
       "      <td>8163.0</td>\n",
       "      <td>5375986567be20b49067956e989884908fb807f6</td>\n",
       "    </tr>\n",
       "  </tbody>\n",
       "</table>\n",
       "</div>"
      ],
      "text/plain": [
       "  ageClass sex nationality  treatment  \\\n",
       "0       20   M         KEN  Treatment   \n",
       "1       20   M         KEN  Treatment   \n",
       "2       20   M         KEN    Control   \n",
       "3       30   M         KEN    Control   \n",
       "4       30   M         KEN  Treatment   \n",
       "\n",
       "                        unique_id_attribute  netTime  clockTime  \\\n",
       "0  354658649da56c20c72b6689d2b7e1b8cc334ac9   7661.0     7661.0   \n",
       "1  1da607e762ac07eba6f9b5a717e9ff196d987242   7737.0     7737.0   \n",
       "2  1de4a95cef28c290ba5790217288f510afc3b26b   7747.0     7747.0   \n",
       "3  12215d93d2cb5b0234991a64d097955338a73dd3   7750.0     7750.0   \n",
       "4  5375986567be20b49067956e989884908fb807f6   8163.0     8163.0   \n",
       "\n",
       "                             unique_id_time  \n",
       "0  354658649da56c20c72b6689d2b7e1b8cc334ac9  \n",
       "1  1da607e762ac07eba6f9b5a717e9ff196d987242  \n",
       "2  1de4a95cef28c290ba5790217288f510afc3b26b  \n",
       "3  12215d93d2cb5b0234991a64d097955338a73dd3  \n",
       "4  5375986567be20b49067956e989884908fb807f6  "
      ]
     },
     "execution_count": 4,
     "metadata": {},
     "output_type": "execute_result"
    }
   ],
   "source": [
    "runners = attributes.join(times, lsuffix=\"_attribute\", rsuffix=\"_time\")\n",
    "\n",
    "runners.head()"
   ]
  },
  {
   "cell_type": "markdown",
   "metadata": {},
   "source": [
    "Let's check the shape of the joined table"
   ]
  },
  {
   "cell_type": "code",
   "execution_count": 5,
   "metadata": {
    "collapsed": false
   },
   "outputs": [
    {
     "name": "stdout",
     "output_type": "stream",
     "text": [
      "(30923, 8)\n"
     ]
    }
   ],
   "source": [
    "print(runners.shape)"
   ]
  },
  {
   "cell_type": "markdown",
   "metadata": {},
   "source": [
    "Let's check that there are no attributes without time or times without attributes"
   ]
  },
  {
   "cell_type": "code",
   "execution_count": 6,
   "metadata": {
    "collapsed": false
   },
   "outputs": [
    {
     "data": {
      "text/plain": [
       "(30923, 8)"
      ]
     },
     "execution_count": 6,
     "metadata": {},
     "output_type": "execute_result"
    }
   ],
   "source": [
    "notNullShape = runners[runners['unique_id_attribute'].notnull()].shape\n",
    "notNullShape"
   ]
  },
  {
   "cell_type": "code",
   "execution_count": 7,
   "metadata": {
    "collapsed": false
   },
   "outputs": [
    {
     "data": {
      "text/plain": [
       "(30373, 8)"
      ]
     },
     "execution_count": 7,
     "metadata": {},
     "output_type": "execute_result"
    }
   ],
   "source": [
    "notNullShape = runners[runners['unique_id_time'].notnull()].shape\n",
    "notNullShape"
   ]
  },
  {
   "cell_type": "markdown",
   "metadata": {},
   "source": [
    "As we can see, there has been a few runners that probably didn't finish the race.\n",
    "\n",
    "At this point, let's remove them from our data"
   ]
  },
  {
   "cell_type": "code",
   "execution_count": 8,
   "metadata": {
    "collapsed": false
   },
   "outputs": [
    {
     "data": {
      "text/html": [
       "<div>\n",
       "<table border=\"1\" class=\"dataframe\">\n",
       "  <thead>\n",
       "    <tr style=\"text-align: right;\">\n",
       "      <th></th>\n",
       "      <th>ageClass</th>\n",
       "      <th>sex</th>\n",
       "      <th>nationality</th>\n",
       "      <th>treatment</th>\n",
       "      <th>unique_id</th>\n",
       "      <th>netTime</th>\n",
       "      <th>clockTime</th>\n",
       "    </tr>\n",
       "  </thead>\n",
       "  <tbody>\n",
       "    <tr>\n",
       "      <th>0</th>\n",
       "      <td>20</td>\n",
       "      <td>M</td>\n",
       "      <td>KEN</td>\n",
       "      <td>Treatment</td>\n",
       "      <td>354658649da56c20c72b6689d2b7e1b8cc334ac9</td>\n",
       "      <td>7661.0</td>\n",
       "      <td>7661.0</td>\n",
       "    </tr>\n",
       "    <tr>\n",
       "      <th>1</th>\n",
       "      <td>20</td>\n",
       "      <td>M</td>\n",
       "      <td>KEN</td>\n",
       "      <td>Treatment</td>\n",
       "      <td>1da607e762ac07eba6f9b5a717e9ff196d987242</td>\n",
       "      <td>7737.0</td>\n",
       "      <td>7737.0</td>\n",
       "    </tr>\n",
       "    <tr>\n",
       "      <th>2</th>\n",
       "      <td>20</td>\n",
       "      <td>M</td>\n",
       "      <td>KEN</td>\n",
       "      <td>Control</td>\n",
       "      <td>1de4a95cef28c290ba5790217288f510afc3b26b</td>\n",
       "      <td>7747.0</td>\n",
       "      <td>7747.0</td>\n",
       "    </tr>\n",
       "    <tr>\n",
       "      <th>3</th>\n",
       "      <td>30</td>\n",
       "      <td>M</td>\n",
       "      <td>KEN</td>\n",
       "      <td>Control</td>\n",
       "      <td>12215d93d2cb5b0234991a64d097955338a73dd3</td>\n",
       "      <td>7750.0</td>\n",
       "      <td>7750.0</td>\n",
       "    </tr>\n",
       "    <tr>\n",
       "      <th>4</th>\n",
       "      <td>30</td>\n",
       "      <td>M</td>\n",
       "      <td>KEN</td>\n",
       "      <td>Treatment</td>\n",
       "      <td>5375986567be20b49067956e989884908fb807f6</td>\n",
       "      <td>8163.0</td>\n",
       "      <td>8163.0</td>\n",
       "    </tr>\n",
       "  </tbody>\n",
       "</table>\n",
       "</div>"
      ],
      "text/plain": [
       "  ageClass sex nationality  treatment  \\\n",
       "0       20   M         KEN  Treatment   \n",
       "1       20   M         KEN  Treatment   \n",
       "2       20   M         KEN    Control   \n",
       "3       30   M         KEN    Control   \n",
       "4       30   M         KEN  Treatment   \n",
       "\n",
       "                                  unique_id  netTime  clockTime  \n",
       "0  354658649da56c20c72b6689d2b7e1b8cc334ac9   7661.0     7661.0  \n",
       "1  1da607e762ac07eba6f9b5a717e9ff196d987242   7737.0     7737.0  \n",
       "2  1de4a95cef28c290ba5790217288f510afc3b26b   7747.0     7747.0  \n",
       "3  12215d93d2cb5b0234991a64d097955338a73dd3   7750.0     7750.0  \n",
       "4  5375986567be20b49067956e989884908fb807f6   8163.0     8163.0  "
      ]
     },
     "execution_count": 8,
     "metadata": {},
     "output_type": "execute_result"
    }
   ],
   "source": [
    "finishers = runners[runners['unique_id_time'].notnull()]\n",
    "finishers = finishers.drop('unique_id_time', axis=1)\n",
    "finishers = finishers.rename(columns = {'unique_id_attribute':'unique_id'})\n",
    "finishers.head()"
   ]
  },
  {
   "cell_type": "code",
   "execution_count": 9,
   "metadata": {
    "collapsed": false
   },
   "outputs": [
    {
     "data": {
      "text/html": [
       "<div>\n",
       "<table border=\"1\" class=\"dataframe\">\n",
       "  <thead>\n",
       "    <tr style=\"text-align: right;\">\n",
       "      <th></th>\n",
       "      <th>ageClass</th>\n",
       "      <th>sex</th>\n",
       "      <th>nationality</th>\n",
       "      <th>treatment</th>\n",
       "      <th>unique_id</th>\n",
       "      <th>netTime</th>\n",
       "    </tr>\n",
       "  </thead>\n",
       "  <tbody>\n",
       "    <tr>\n",
       "      <th>0</th>\n",
       "      <td>20</td>\n",
       "      <td>M</td>\n",
       "      <td>KEN</td>\n",
       "      <td>Treatment</td>\n",
       "      <td>354658649da56c20c72b6689d2b7e1b8cc334ac9</td>\n",
       "      <td>7661.0</td>\n",
       "    </tr>\n",
       "    <tr>\n",
       "      <th>1</th>\n",
       "      <td>20</td>\n",
       "      <td>M</td>\n",
       "      <td>KEN</td>\n",
       "      <td>Treatment</td>\n",
       "      <td>1da607e762ac07eba6f9b5a717e9ff196d987242</td>\n",
       "      <td>7737.0</td>\n",
       "    </tr>\n",
       "    <tr>\n",
       "      <th>2</th>\n",
       "      <td>20</td>\n",
       "      <td>M</td>\n",
       "      <td>KEN</td>\n",
       "      <td>Control</td>\n",
       "      <td>1de4a95cef28c290ba5790217288f510afc3b26b</td>\n",
       "      <td>7747.0</td>\n",
       "    </tr>\n",
       "    <tr>\n",
       "      <th>3</th>\n",
       "      <td>30</td>\n",
       "      <td>M</td>\n",
       "      <td>KEN</td>\n",
       "      <td>Control</td>\n",
       "      <td>12215d93d2cb5b0234991a64d097955338a73dd3</td>\n",
       "      <td>7750.0</td>\n",
       "    </tr>\n",
       "    <tr>\n",
       "      <th>4</th>\n",
       "      <td>30</td>\n",
       "      <td>M</td>\n",
       "      <td>KEN</td>\n",
       "      <td>Treatment</td>\n",
       "      <td>5375986567be20b49067956e989884908fb807f6</td>\n",
       "      <td>8163.0</td>\n",
       "    </tr>\n",
       "  </tbody>\n",
       "</table>\n",
       "</div>"
      ],
      "text/plain": [
       "  ageClass sex nationality  treatment  \\\n",
       "0       20   M         KEN  Treatment   \n",
       "1       20   M         KEN  Treatment   \n",
       "2       20   M         KEN    Control   \n",
       "3       30   M         KEN    Control   \n",
       "4       30   M         KEN  Treatment   \n",
       "\n",
       "                                  unique_id  netTime  \n",
       "0  354658649da56c20c72b6689d2b7e1b8cc334ac9   7661.0  \n",
       "1  1da607e762ac07eba6f9b5a717e9ff196d987242   7737.0  \n",
       "2  1de4a95cef28c290ba5790217288f510afc3b26b   7747.0  \n",
       "3  12215d93d2cb5b0234991a64d097955338a73dd3   7750.0  \n",
       "4  5375986567be20b49067956e989884908fb807f6   8163.0  "
      ]
     },
     "execution_count": 9,
     "metadata": {},
     "output_type": "execute_result"
    }
   ],
   "source": [
    "finishers = finishers.drop('clockTime', axis=1)\n",
    "finishers.head()"
   ]
  },
  {
   "cell_type": "markdown",
   "metadata": {},
   "source": [
    "### Visual Preliminary Analysis\n",
    "\n",
    "In order to understand whether using the shoes makes a difference we could try to calculate the correlation.\n",
    "\n",
    "However, before moving to linear regression. Let's plot some attributes with the `netTime` to try to understand whether there exists some correlation among them"
   ]
  },
  {
   "cell_type": "code",
   "execution_count": 10,
   "metadata": {
    "collapsed": false,
    "scrolled": true
   },
   "outputs": [
    {
     "data": {
      "image/png": "[encoded data removed]",
      "text/plain": [
       "<matplotlib.figure.Figure at 0x118550390>"
      ]
     },
     "metadata": {},
     "output_type": "display_data"
    }
   ],
   "source": [
    "plt.figure(figsize=(15, 8))\n",
    "ax = sns.boxplot(x='ageClass', y='netTime', data=finishers)\n",
    "plt.show()"
   ]
  },
  {
   "cell_type": "markdown",
   "metadata": {},
   "source": [
    "As we can see, it seems to be a relationship between AGE and time.\n",
    "\n",
    "If the AGE is above 60, the average time and most of the runners take longer to finish the marathon."
   ]
  },
  {
   "cell_type": "code",
   "execution_count": 11,
   "metadata": {
    "collapsed": false,
    "scrolled": true
   },
   "outputs": [
    {
     "data": {
      "image/png": "[encoded data removed]",
      "text/plain": [
       "<matplotlib.figure.Figure at 0x11af01750>"
      ]
     },
     "metadata": {},
     "output_type": "display_data"
    }
   ],
   "source": [
    "plt.figure(figsize=(15, 8))\n",
    "ax = sns.boxplot(x='sex', y='netTime', data=finishers)\n",
    "plt.show()"
   ]
  },
  {
   "cell_type": "markdown",
   "metadata": {},
   "source": [
    "Sex of the runner seems to have also correlation with the time to finish the marathon."
   ]
  },
  {
   "cell_type": "code",
   "execution_count": 12,
   "metadata": {
    "collapsed": false
   },
   "outputs": [
    {
     "data": {
      "image/png": "[encoded data removed]",
      "text/plain": [
       "<matplotlib.figure.Figure at 0x11b8fb490>"
      ]
     },
     "metadata": {},
     "output_type": "display_data"
    }
   ],
   "source": [
    "plt.figure(figsize=(15, 8))\n",
    "ax = sns.boxplot(x='treatment', y='netTime', data=finishers)\n",
    "plt.show()"
   ]
  },
  {
   "cell_type": "markdown",
   "metadata": {},
   "source": [
    "With this plot we can't conclude whether it exists some kind or correlation or not.\n",
    "\n",
    "Averages are the same in Control and Treatment group. What seems to be different is the correlation."
   ]
  },
  {
   "cell_type": "markdown",
   "metadata": {},
   "source": [
    "### Clean Dataset\n",
    "\n",
    "In the plots we can see som outliers that seem to show a bad input.\n",
    "\n",
    "There are negative `netTime`s.\n",
    "\n",
    "Let's remove that."
   ]
  },
  {
   "cell_type": "code",
   "execution_count": 13,
   "metadata": {
    "collapsed": true
   },
   "outputs": [],
   "source": [
    "finishers = finishers[finishers['netTime'] > 0];"
   ]
  },
  {
   "cell_type": "markdown",
   "metadata": {},
   "source": [
    "### Categorical Features\n",
    "\n",
    "It's much easier to work with numerical values than with categories.\n",
    "\n",
    "Let's transform our caterory features into numerical values."
   ]
  },
  {
   "cell_type": "code",
   "execution_count": 14,
   "metadata": {
    "collapsed": false
   },
   "outputs": [
    {
     "data": {
      "text/html": [
       "<div>\n",
       "<table border=\"1\" class=\"dataframe\">\n",
       "  <thead>\n",
       "    <tr style=\"text-align: right;\">\n",
       "      <th></th>\n",
       "      <th>ageClass</th>\n",
       "      <th>sex</th>\n",
       "      <th>nationality</th>\n",
       "      <th>unique_id</th>\n",
       "      <th>netTime</th>\n",
       "      <th>treatment_num</th>\n",
       "    </tr>\n",
       "  </thead>\n",
       "  <tbody>\n",
       "    <tr>\n",
       "      <th>0</th>\n",
       "      <td>20</td>\n",
       "      <td>M</td>\n",
       "      <td>KEN</td>\n",
       "      <td>354658649da56c20c72b6689d2b7e1b8cc334ac9</td>\n",
       "      <td>7661.0</td>\n",
       "      <td>1</td>\n",
       "    </tr>\n",
       "    <tr>\n",
       "      <th>1</th>\n",
       "      <td>20</td>\n",
       "      <td>M</td>\n",
       "      <td>KEN</td>\n",
       "      <td>1da607e762ac07eba6f9b5a717e9ff196d987242</td>\n",
       "      <td>7737.0</td>\n",
       "      <td>1</td>\n",
       "    </tr>\n",
       "    <tr>\n",
       "      <th>2</th>\n",
       "      <td>20</td>\n",
       "      <td>M</td>\n",
       "      <td>KEN</td>\n",
       "      <td>1de4a95cef28c290ba5790217288f510afc3b26b</td>\n",
       "      <td>7747.0</td>\n",
       "      <td>0</td>\n",
       "    </tr>\n",
       "    <tr>\n",
       "      <th>3</th>\n",
       "      <td>30</td>\n",
       "      <td>M</td>\n",
       "      <td>KEN</td>\n",
       "      <td>12215d93d2cb5b0234991a64d097955338a73dd3</td>\n",
       "      <td>7750.0</td>\n",
       "      <td>0</td>\n",
       "    </tr>\n",
       "    <tr>\n",
       "      <th>4</th>\n",
       "      <td>30</td>\n",
       "      <td>M</td>\n",
       "      <td>KEN</td>\n",
       "      <td>5375986567be20b49067956e989884908fb807f6</td>\n",
       "      <td>8163.0</td>\n",
       "      <td>1</td>\n",
       "    </tr>\n",
       "  </tbody>\n",
       "</table>\n",
       "</div>"
      ],
      "text/plain": [
       "  ageClass sex nationality                                 unique_id  netTime  \\\n",
       "0       20   M         KEN  354658649da56c20c72b6689d2b7e1b8cc334ac9   7661.0   \n",
       "1       20   M         KEN  1da607e762ac07eba6f9b5a717e9ff196d987242   7737.0   \n",
       "2       20   M         KEN  1de4a95cef28c290ba5790217288f510afc3b26b   7747.0   \n",
       "3       30   M         KEN  12215d93d2cb5b0234991a64d097955338a73dd3   7750.0   \n",
       "4       30   M         KEN  5375986567be20b49067956e989884908fb807f6   8163.0   \n",
       "\n",
       "   treatment_num  \n",
       "0              1  \n",
       "1              1  \n",
       "2              0  \n",
       "3              0  \n",
       "4              1  "
      ]
     },
     "execution_count": 14,
     "metadata": {},
     "output_type": "execute_result"
    }
   ],
   "source": [
    "finishers['treatment_num'] = finishers['treatment'].apply(lambda x: 0 if x == 'Control' else 1)\n",
    "cat_finishers = finishers.drop('treatment', axis=1)\n",
    "finishers = finishers.drop('treatment_num', axis=1)\n",
    "cat_finishers.head()"
   ]
  },
  {
   "cell_type": "code",
   "execution_count": 15,
   "metadata": {
    "collapsed": false
   },
   "outputs": [
    {
     "data": {
      "text/html": [
       "<div>\n",
       "<table border=\"1\" class=\"dataframe\">\n",
       "  <thead>\n",
       "    <tr style=\"text-align: right;\">\n",
       "      <th></th>\n",
       "      <th>ageClass</th>\n",
       "      <th>nationality</th>\n",
       "      <th>unique_id</th>\n",
       "      <th>netTime</th>\n",
       "      <th>treatment_num</th>\n",
       "      <th>sex_num</th>\n",
       "    </tr>\n",
       "  </thead>\n",
       "  <tbody>\n",
       "    <tr>\n",
       "      <th>0</th>\n",
       "      <td>20</td>\n",
       "      <td>KEN</td>\n",
       "      <td>354658649da56c20c72b6689d2b7e1b8cc334ac9</td>\n",
       "      <td>7661.0</td>\n",
       "      <td>1</td>\n",
       "      <td>0</td>\n",
       "    </tr>\n",
       "    <tr>\n",
       "      <th>1</th>\n",
       "      <td>20</td>\n",
       "      <td>KEN</td>\n",
       "      <td>1da607e762ac07eba6f9b5a717e9ff196d987242</td>\n",
       "      <td>7737.0</td>\n",
       "      <td>1</td>\n",
       "      <td>0</td>\n",
       "    </tr>\n",
       "    <tr>\n",
       "      <th>2</th>\n",
       "      <td>20</td>\n",
       "      <td>KEN</td>\n",
       "      <td>1de4a95cef28c290ba5790217288f510afc3b26b</td>\n",
       "      <td>7747.0</td>\n",
       "      <td>0</td>\n",
       "      <td>0</td>\n",
       "    </tr>\n",
       "    <tr>\n",
       "      <th>3</th>\n",
       "      <td>30</td>\n",
       "      <td>KEN</td>\n",
       "      <td>12215d93d2cb5b0234991a64d097955338a73dd3</td>\n",
       "      <td>7750.0</td>\n",
       "      <td>0</td>\n",
       "      <td>0</td>\n",
       "    </tr>\n",
       "    <tr>\n",
       "      <th>4</th>\n",
       "      <td>30</td>\n",
       "      <td>KEN</td>\n",
       "      <td>5375986567be20b49067956e989884908fb807f6</td>\n",
       "      <td>8163.0</td>\n",
       "      <td>1</td>\n",
       "      <td>0</td>\n",
       "    </tr>\n",
       "  </tbody>\n",
       "</table>\n",
       "</div>"
      ],
      "text/plain": [
       "  ageClass nationality                                 unique_id  netTime  \\\n",
       "0       20         KEN  354658649da56c20c72b6689d2b7e1b8cc334ac9   7661.0   \n",
       "1       20         KEN  1da607e762ac07eba6f9b5a717e9ff196d987242   7737.0   \n",
       "2       20         KEN  1de4a95cef28c290ba5790217288f510afc3b26b   7747.0   \n",
       "3       30         KEN  12215d93d2cb5b0234991a64d097955338a73dd3   7750.0   \n",
       "4       30         KEN  5375986567be20b49067956e989884908fb807f6   8163.0   \n",
       "\n",
       "   treatment_num  sex_num  \n",
       "0              1        0  \n",
       "1              1        0  \n",
       "2              0        0  \n",
       "3              0        0  \n",
       "4              1        0  "
      ]
     },
     "execution_count": 15,
     "metadata": {},
     "output_type": "execute_result"
    }
   ],
   "source": [
    "cat_finishers['sex_num'] =  cat_finishers['sex'].apply(lambda x: 0 if x == 'M' else 1)\n",
    "cat_finishers = cat_finishers.drop('sex', axis=1)\n",
    "cat_finishers.head()"
   ]
  },
  {
   "cell_type": "code",
   "execution_count": 16,
   "metadata": {
    "collapsed": false
   },
   "outputs": [
    {
     "data": {
      "text/html": [
       "<div>\n",
       "<table border=\"1\" class=\"dataframe\">\n",
       "  <thead>\n",
       "    <tr style=\"text-align: right;\">\n",
       "      <th></th>\n",
       "      <th>AFG</th>\n",
       "      <th>AGO</th>\n",
       "      <th>AHO</th>\n",
       "      <th>ALB</th>\n",
       "      <th>ARG</th>\n",
       "      <th>AUS</th>\n",
       "      <th>AUT</th>\n",
       "      <th>BEL</th>\n",
       "      <th>BGR</th>\n",
       "      <th>BIH</th>\n",
       "      <th>...</th>\n",
       "      <th>SVK</th>\n",
       "      <th>SVN</th>\n",
       "      <th>SWE</th>\n",
       "      <th>THA</th>\n",
       "      <th>TUR</th>\n",
       "      <th>TWN</th>\n",
       "      <th>USA</th>\n",
       "      <th>VEN</th>\n",
       "      <th>YUG</th>\n",
       "      <th>ZAF</th>\n",
       "    </tr>\n",
       "  </thead>\n",
       "  <tbody>\n",
       "    <tr>\n",
       "      <th>0</th>\n",
       "      <td>0.0</td>\n",
       "      <td>0.0</td>\n",
       "      <td>0.0</td>\n",
       "      <td>0.0</td>\n",
       "      <td>0.0</td>\n",
       "      <td>0.0</td>\n",
       "      <td>0.0</td>\n",
       "      <td>0.0</td>\n",
       "      <td>0.0</td>\n",
       "      <td>0.0</td>\n",
       "      <td>...</td>\n",
       "      <td>0.0</td>\n",
       "      <td>0.0</td>\n",
       "      <td>0.0</td>\n",
       "      <td>0.0</td>\n",
       "      <td>0.0</td>\n",
       "      <td>0.0</td>\n",
       "      <td>0.0</td>\n",
       "      <td>0.0</td>\n",
       "      <td>0.0</td>\n",
       "      <td>0.0</td>\n",
       "    </tr>\n",
       "    <tr>\n",
       "      <th>1</th>\n",
       "      <td>0.0</td>\n",
       "      <td>0.0</td>\n",
       "      <td>0.0</td>\n",
       "      <td>0.0</td>\n",
       "      <td>0.0</td>\n",
       "      <td>0.0</td>\n",
       "      <td>0.0</td>\n",
       "      <td>0.0</td>\n",
       "      <td>0.0</td>\n",
       "      <td>0.0</td>\n",
       "      <td>...</td>\n",
       "      <td>0.0</td>\n",
       "      <td>0.0</td>\n",
       "      <td>0.0</td>\n",
       "      <td>0.0</td>\n",
       "      <td>0.0</td>\n",
       "      <td>0.0</td>\n",
       "      <td>0.0</td>\n",
       "      <td>0.0</td>\n",
       "      <td>0.0</td>\n",
       "      <td>0.0</td>\n",
       "    </tr>\n",
       "    <tr>\n",
       "      <th>2</th>\n",
       "      <td>0.0</td>\n",
       "      <td>0.0</td>\n",
       "      <td>0.0</td>\n",
       "      <td>0.0</td>\n",
       "      <td>0.0</td>\n",
       "      <td>0.0</td>\n",
       "      <td>0.0</td>\n",
       "      <td>0.0</td>\n",
       "      <td>0.0</td>\n",
       "      <td>0.0</td>\n",
       "      <td>...</td>\n",
       "      <td>0.0</td>\n",
       "      <td>0.0</td>\n",
       "      <td>0.0</td>\n",
       "      <td>0.0</td>\n",
       "      <td>0.0</td>\n",
       "      <td>0.0</td>\n",
       "      <td>0.0</td>\n",
       "      <td>0.0</td>\n",
       "      <td>0.0</td>\n",
       "      <td>0.0</td>\n",
       "    </tr>\n",
       "    <tr>\n",
       "      <th>3</th>\n",
       "      <td>0.0</td>\n",
       "      <td>0.0</td>\n",
       "      <td>0.0</td>\n",
       "      <td>0.0</td>\n",
       "      <td>0.0</td>\n",
       "      <td>0.0</td>\n",
       "      <td>0.0</td>\n",
       "      <td>0.0</td>\n",
       "      <td>0.0</td>\n",
       "      <td>0.0</td>\n",
       "      <td>...</td>\n",
       "      <td>0.0</td>\n",
       "      <td>0.0</td>\n",
       "      <td>0.0</td>\n",
       "      <td>0.0</td>\n",
       "      <td>0.0</td>\n",
       "      <td>0.0</td>\n",
       "      <td>0.0</td>\n",
       "      <td>0.0</td>\n",
       "      <td>0.0</td>\n",
       "      <td>0.0</td>\n",
       "    </tr>\n",
       "    <tr>\n",
       "      <th>4</th>\n",
       "      <td>0.0</td>\n",
       "      <td>0.0</td>\n",
       "      <td>0.0</td>\n",
       "      <td>0.0</td>\n",
       "      <td>0.0</td>\n",
       "      <td>0.0</td>\n",
       "      <td>0.0</td>\n",
       "      <td>0.0</td>\n",
       "      <td>0.0</td>\n",
       "      <td>0.0</td>\n",
       "      <td>...</td>\n",
       "      <td>0.0</td>\n",
       "      <td>0.0</td>\n",
       "      <td>0.0</td>\n",
       "      <td>0.0</td>\n",
       "      <td>0.0</td>\n",
       "      <td>0.0</td>\n",
       "      <td>0.0</td>\n",
       "      <td>0.0</td>\n",
       "      <td>0.0</td>\n",
       "      <td>0.0</td>\n",
       "    </tr>\n",
       "  </tbody>\n",
       "</table>\n",
       "<p>5 rows × 92 columns</p>\n",
       "</div>"
      ],
      "text/plain": [
       "   AFG  AGO  AHO  ALB  ARG  AUS  AUT  BEL  BGR  BIH ...   SVK  SVN  SWE  THA  \\\n",
       "0  0.0  0.0  0.0  0.0  0.0  0.0  0.0  0.0  0.0  0.0 ...   0.0  0.0  0.0  0.0   \n",
       "1  0.0  0.0  0.0  0.0  0.0  0.0  0.0  0.0  0.0  0.0 ...   0.0  0.0  0.0  0.0   \n",
       "2  0.0  0.0  0.0  0.0  0.0  0.0  0.0  0.0  0.0  0.0 ...   0.0  0.0  0.0  0.0   \n",
       "3  0.0  0.0  0.0  0.0  0.0  0.0  0.0  0.0  0.0  0.0 ...   0.0  0.0  0.0  0.0   \n",
       "4  0.0  0.0  0.0  0.0  0.0  0.0  0.0  0.0  0.0  0.0 ...   0.0  0.0  0.0  0.0   \n",
       "\n",
       "   TUR  TWN  USA  VEN  YUG  ZAF  \n",
       "0  0.0  0.0  0.0  0.0  0.0  0.0  \n",
       "1  0.0  0.0  0.0  0.0  0.0  0.0  \n",
       "2  0.0  0.0  0.0  0.0  0.0  0.0  \n",
       "3  0.0  0.0  0.0  0.0  0.0  0.0  \n",
       "4  0.0  0.0  0.0  0.0  0.0  0.0  \n",
       "\n",
       "[5 rows x 92 columns]"
      ]
     },
     "execution_count": 16,
     "metadata": {},
     "output_type": "execute_result"
    }
   ],
   "source": [
    "nations = pd.get_dummies(finishers['nationality'])\n",
    "nations.head()"
   ]
  },
  {
   "cell_type": "code",
   "execution_count": 17,
   "metadata": {
    "collapsed": false
   },
   "outputs": [
    {
     "data": {
      "text/html": [
       "<div>\n",
       "<table border=\"1\" class=\"dataframe\">\n",
       "  <thead>\n",
       "    <tr style=\"text-align: right;\">\n",
       "      <th></th>\n",
       "      <th>20</th>\n",
       "      <th>30</th>\n",
       "      <th>35</th>\n",
       "      <th>40</th>\n",
       "      <th>45</th>\n",
       "      <th>50</th>\n",
       "      <th>55</th>\n",
       "      <th>60</th>\n",
       "      <th>65</th>\n",
       "      <th>70</th>\n",
       "      <th>75</th>\n",
       "      <th>80</th>\n",
       "      <th>U20</th>\n",
       "    </tr>\n",
       "  </thead>\n",
       "  <tbody>\n",
       "    <tr>\n",
       "      <th>0</th>\n",
       "      <td>1.0</td>\n",
       "      <td>0.0</td>\n",
       "      <td>0.0</td>\n",
       "      <td>0.0</td>\n",
       "      <td>0.0</td>\n",
       "      <td>0.0</td>\n",
       "      <td>0.0</td>\n",
       "      <td>0.0</td>\n",
       "      <td>0.0</td>\n",
       "      <td>0.0</td>\n",
       "      <td>0.0</td>\n",
       "      <td>0.0</td>\n",
       "      <td>0.0</td>\n",
       "    </tr>\n",
       "    <tr>\n",
       "      <th>1</th>\n",
       "      <td>1.0</td>\n",
       "      <td>0.0</td>\n",
       "      <td>0.0</td>\n",
       "      <td>0.0</td>\n",
       "      <td>0.0</td>\n",
       "      <td>0.0</td>\n",
       "      <td>0.0</td>\n",
       "      <td>0.0</td>\n",
       "      <td>0.0</td>\n",
       "      <td>0.0</td>\n",
       "      <td>0.0</td>\n",
       "      <td>0.0</td>\n",
       "      <td>0.0</td>\n",
       "    </tr>\n",
       "    <tr>\n",
       "      <th>2</th>\n",
       "      <td>1.0</td>\n",
       "      <td>0.0</td>\n",
       "      <td>0.0</td>\n",
       "      <td>0.0</td>\n",
       "      <td>0.0</td>\n",
       "      <td>0.0</td>\n",
       "      <td>0.0</td>\n",
       "      <td>0.0</td>\n",
       "      <td>0.0</td>\n",
       "      <td>0.0</td>\n",
       "      <td>0.0</td>\n",
       "      <td>0.0</td>\n",
       "      <td>0.0</td>\n",
       "    </tr>\n",
       "    <tr>\n",
       "      <th>3</th>\n",
       "      <td>0.0</td>\n",
       "      <td>1.0</td>\n",
       "      <td>0.0</td>\n",
       "      <td>0.0</td>\n",
       "      <td>0.0</td>\n",
       "      <td>0.0</td>\n",
       "      <td>0.0</td>\n",
       "      <td>0.0</td>\n",
       "      <td>0.0</td>\n",
       "      <td>0.0</td>\n",
       "      <td>0.0</td>\n",
       "      <td>0.0</td>\n",
       "      <td>0.0</td>\n",
       "    </tr>\n",
       "    <tr>\n",
       "      <th>4</th>\n",
       "      <td>0.0</td>\n",
       "      <td>1.0</td>\n",
       "      <td>0.0</td>\n",
       "      <td>0.0</td>\n",
       "      <td>0.0</td>\n",
       "      <td>0.0</td>\n",
       "      <td>0.0</td>\n",
       "      <td>0.0</td>\n",
       "      <td>0.0</td>\n",
       "      <td>0.0</td>\n",
       "      <td>0.0</td>\n",
       "      <td>0.0</td>\n",
       "      <td>0.0</td>\n",
       "    </tr>\n",
       "  </tbody>\n",
       "</table>\n",
       "</div>"
      ],
      "text/plain": [
       "    20   30   35   40   45   50   55   60   65   70   75   80  U20\n",
       "0  1.0  0.0  0.0  0.0  0.0  0.0  0.0  0.0  0.0  0.0  0.0  0.0  0.0\n",
       "1  1.0  0.0  0.0  0.0  0.0  0.0  0.0  0.0  0.0  0.0  0.0  0.0  0.0\n",
       "2  1.0  0.0  0.0  0.0  0.0  0.0  0.0  0.0  0.0  0.0  0.0  0.0  0.0\n",
       "3  0.0  1.0  0.0  0.0  0.0  0.0  0.0  0.0  0.0  0.0  0.0  0.0  0.0\n",
       "4  0.0  1.0  0.0  0.0  0.0  0.0  0.0  0.0  0.0  0.0  0.0  0.0  0.0"
      ]
     },
     "execution_count": 17,
     "metadata": {},
     "output_type": "execute_result"
    }
   ],
   "source": [
    "ages = pd.get_dummies(finishers['ageClass'])\n",
    "ages.head()"
   ]
  },
  {
   "cell_type": "code",
   "execution_count": 18,
   "metadata": {
    "collapsed": false
   },
   "outputs": [
    {
     "name": "stdout",
     "output_type": "stream",
     "text": [
      "(30368, 108)\n"
     ]
    },
    {
     "data": {
      "text/html": [
       "<div>\n",
       "<table border=\"1\" class=\"dataframe\">\n",
       "  <thead>\n",
       "    <tr style=\"text-align: right;\">\n",
       "      <th></th>\n",
       "      <th>netTime</th>\n",
       "      <th>treatment_num</th>\n",
       "      <th>sex_num</th>\n",
       "      <th>AFG</th>\n",
       "      <th>AGO</th>\n",
       "      <th>AHO</th>\n",
       "      <th>ALB</th>\n",
       "      <th>ARG</th>\n",
       "      <th>AUS</th>\n",
       "      <th>AUT</th>\n",
       "      <th>...</th>\n",
       "      <th>40</th>\n",
       "      <th>45</th>\n",
       "      <th>50</th>\n",
       "      <th>55</th>\n",
       "      <th>60</th>\n",
       "      <th>65</th>\n",
       "      <th>70</th>\n",
       "      <th>75</th>\n",
       "      <th>80</th>\n",
       "      <th>U20</th>\n",
       "    </tr>\n",
       "  </thead>\n",
       "  <tbody>\n",
       "    <tr>\n",
       "      <th>0</th>\n",
       "      <td>7661.0</td>\n",
       "      <td>1</td>\n",
       "      <td>0</td>\n",
       "      <td>0.0</td>\n",
       "      <td>0.0</td>\n",
       "      <td>0.0</td>\n",
       "      <td>0.0</td>\n",
       "      <td>0.0</td>\n",
       "      <td>0.0</td>\n",
       "      <td>0.0</td>\n",
       "      <td>...</td>\n",
       "      <td>0.0</td>\n",
       "      <td>0.0</td>\n",
       "      <td>0.0</td>\n",
       "      <td>0.0</td>\n",
       "      <td>0.0</td>\n",
       "      <td>0.0</td>\n",
       "      <td>0.0</td>\n",
       "      <td>0.0</td>\n",
       "      <td>0.0</td>\n",
       "      <td>0.0</td>\n",
       "    </tr>\n",
       "    <tr>\n",
       "      <th>1</th>\n",
       "      <td>7737.0</td>\n",
       "      <td>1</td>\n",
       "      <td>0</td>\n",
       "      <td>0.0</td>\n",
       "      <td>0.0</td>\n",
       "      <td>0.0</td>\n",
       "      <td>0.0</td>\n",
       "      <td>0.0</td>\n",
       "      <td>0.0</td>\n",
       "      <td>0.0</td>\n",
       "      <td>...</td>\n",
       "      <td>0.0</td>\n",
       "      <td>0.0</td>\n",
       "      <td>0.0</td>\n",
       "      <td>0.0</td>\n",
       "      <td>0.0</td>\n",
       "      <td>0.0</td>\n",
       "      <td>0.0</td>\n",
       "      <td>0.0</td>\n",
       "      <td>0.0</td>\n",
       "      <td>0.0</td>\n",
       "    </tr>\n",
       "    <tr>\n",
       "      <th>2</th>\n",
       "      <td>7747.0</td>\n",
       "      <td>0</td>\n",
       "      <td>0</td>\n",
       "      <td>0.0</td>\n",
       "      <td>0.0</td>\n",
       "      <td>0.0</td>\n",
       "      <td>0.0</td>\n",
       "      <td>0.0</td>\n",
       "      <td>0.0</td>\n",
       "      <td>0.0</td>\n",
       "      <td>...</td>\n",
       "      <td>0.0</td>\n",
       "      <td>0.0</td>\n",
       "      <td>0.0</td>\n",
       "      <td>0.0</td>\n",
       "      <td>0.0</td>\n",
       "      <td>0.0</td>\n",
       "      <td>0.0</td>\n",
       "      <td>0.0</td>\n",
       "      <td>0.0</td>\n",
       "      <td>0.0</td>\n",
       "    </tr>\n",
       "    <tr>\n",
       "      <th>3</th>\n",
       "      <td>7750.0</td>\n",
       "      <td>0</td>\n",
       "      <td>0</td>\n",
       "      <td>0.0</td>\n",
       "      <td>0.0</td>\n",
       "      <td>0.0</td>\n",
       "      <td>0.0</td>\n",
       "      <td>0.0</td>\n",
       "      <td>0.0</td>\n",
       "      <td>0.0</td>\n",
       "      <td>...</td>\n",
       "      <td>0.0</td>\n",
       "      <td>0.0</td>\n",
       "      <td>0.0</td>\n",
       "      <td>0.0</td>\n",
       "      <td>0.0</td>\n",
       "      <td>0.0</td>\n",
       "      <td>0.0</td>\n",
       "      <td>0.0</td>\n",
       "      <td>0.0</td>\n",
       "      <td>0.0</td>\n",
       "    </tr>\n",
       "    <tr>\n",
       "      <th>4</th>\n",
       "      <td>8163.0</td>\n",
       "      <td>1</td>\n",
       "      <td>0</td>\n",
       "      <td>0.0</td>\n",
       "      <td>0.0</td>\n",
       "      <td>0.0</td>\n",
       "      <td>0.0</td>\n",
       "      <td>0.0</td>\n",
       "      <td>0.0</td>\n",
       "      <td>0.0</td>\n",
       "      <td>...</td>\n",
       "      <td>0.0</td>\n",
       "      <td>0.0</td>\n",
       "      <td>0.0</td>\n",
       "      <td>0.0</td>\n",
       "      <td>0.0</td>\n",
       "      <td>0.0</td>\n",
       "      <td>0.0</td>\n",
       "      <td>0.0</td>\n",
       "      <td>0.0</td>\n",
       "      <td>0.0</td>\n",
       "    </tr>\n",
       "  </tbody>\n",
       "</table>\n",
       "<p>5 rows × 108 columns</p>\n",
       "</div>"
      ],
      "text/plain": [
       "   netTime  treatment_num  sex_num  AFG  AGO  AHO  ALB  ARG  AUS  AUT ...   \\\n",
       "0   7661.0              1        0  0.0  0.0  0.0  0.0  0.0  0.0  0.0 ...    \n",
       "1   7737.0              1        0  0.0  0.0  0.0  0.0  0.0  0.0  0.0 ...    \n",
       "2   7747.0              0        0  0.0  0.0  0.0  0.0  0.0  0.0  0.0 ...    \n",
       "3   7750.0              0        0  0.0  0.0  0.0  0.0  0.0  0.0  0.0 ...    \n",
       "4   8163.0              1        0  0.0  0.0  0.0  0.0  0.0  0.0  0.0 ...    \n",
       "\n",
       "    40   45   50   55   60   65   70   75   80  U20  \n",
       "0  0.0  0.0  0.0  0.0  0.0  0.0  0.0  0.0  0.0  0.0  \n",
       "1  0.0  0.0  0.0  0.0  0.0  0.0  0.0  0.0  0.0  0.0  \n",
       "2  0.0  0.0  0.0  0.0  0.0  0.0  0.0  0.0  0.0  0.0  \n",
       "3  0.0  0.0  0.0  0.0  0.0  0.0  0.0  0.0  0.0  0.0  \n",
       "4  0.0  0.0  0.0  0.0  0.0  0.0  0.0  0.0  0.0  0.0  \n",
       "\n",
       "[5 rows x 108 columns]"
      ]
     },
     "execution_count": 18,
     "metadata": {},
     "output_type": "execute_result"
    }
   ],
   "source": [
    "cat_finishers = cat_finishers.drop('ageClass', axis=1)\n",
    "cat_finishers = cat_finishers.drop('nationality', axis=1)\n",
    "cat_finishers = cat_finishers.drop('unique_id', axis=1)\n",
    "cat_finishers = cat_finishers.join(nations)\n",
    "cat_finishers = cat_finishers.join(ages)\n",
    "print(cat_finishers.shape)\n",
    "cat_finishers.head()"
   ]
  },
  {
   "cell_type": "markdown",
   "metadata": {},
   "source": [
    "### Two Datasets\n",
    "\n",
    "First of all, in order to understand whether using the Shoes makes a difference or not. We will separate our dataset in two.\n",
    "\n",
    "On one side the runners that used the shoes, and in the other the ones that didn't.\n",
    "\n",
    "Then we will use PCA and linear regression to try to predict the runner finishing time."
   ]
  },
  {
   "cell_type": "code",
   "execution_count": 19,
   "metadata": {
    "collapsed": false
   },
   "outputs": [
    {
     "name": "stdout",
     "output_type": "stream",
     "text": [
      "(15202, 107)\n"
     ]
    }
   ],
   "source": [
    "finishers_with = cat_finishers[cat_finishers['treatment_num'] == 1]\n",
    "finishers_with = finishers_with.drop('treatment_num', axis=1)\n",
    "print(finishers_with.shape)"
   ]
  },
  {
   "cell_type": "code",
   "execution_count": 20,
   "metadata": {
    "collapsed": false
   },
   "outputs": [
    {
     "name": "stdout",
     "output_type": "stream",
     "text": [
      "(15166, 107)\n"
     ]
    }
   ],
   "source": [
    "finishers_without = cat_finishers[cat_finishers['treatment_num'] == 0]\n",
    "finishers_without = finishers_without.drop('treatment_num', axis=1)\n",
    "print(finishers_without.shape)"
   ]
  },
  {
   "cell_type": "markdown",
   "metadata": {},
   "source": [
    "### Separate X and Y\n",
    "\n",
    "For each dataset, let's differentiate the predicted value and the inputs.\n",
    "\n",
    "We are going to use `netTime` as prediction."
   ]
  },
  {
   "cell_type": "code",
   "execution_count": 21,
   "metadata": {
    "collapsed": false
   },
   "outputs": [
    {
     "name": "stdout",
     "output_type": "stream",
     "text": [
      "(15202,)\n",
      "(15202, 106)\n",
      "(15166,)\n",
      "(15166, 106)\n"
     ]
    }
   ],
   "source": [
    "finishers_with_Y = finishers_with['netTime'];\n",
    "print(finishers_with_Y.shape)\n",
    "\n",
    "finishers_with_X = finishers_with.drop('netTime', axis=1)\n",
    "print(finishers_with_X.shape)\n",
    "\n",
    "finishers_without_Y = finishers_without['netTime'];\n",
    "print(finishers_without_Y.shape)\n",
    "\n",
    "finishers_without_X = finishers_without.drop('netTime', axis=1)\n",
    "print(finishers_without_X.shape)"
   ]
  },
  {
   "cell_type": "markdown",
   "metadata": {},
   "source": [
    "### Linear Regression\n",
    "\n",
    "Let's try running the linear regression"
   ]
  },
  {
   "cell_type": "code",
   "execution_count": 22,
   "metadata": {
    "collapsed": false
   },
   "outputs": [
    {
     "name": "stdout",
     "output_type": "stream",
     "text": [
      "1.83983525315e+15\n",
      "0.162979294481\n"
     ]
    }
   ],
   "source": [
    "lm_with = LinearRegression()\n",
    "lm_with.fit(finishers_with_X, finishers_with_Y)\n",
    "\n",
    "# print intercept\n",
    "print lm_with.intercept_\n",
    "\n",
    "print lm_with.score(finishers_with_X, finishers_with_Y)"
   ]
  },
  {
   "cell_type": "code",
   "execution_count": 23,
   "metadata": {
    "collapsed": false
   },
   "outputs": [
    {
     "name": "stdout",
     "output_type": "stream",
     "text": [
      "-1.61626000939e+16\n",
      "-2.49137278563e+21\n"
     ]
    }
   ],
   "source": [
    "lm_without = LinearRegression()\n",
    "lm_without.fit(finishers_without_X, finishers_without_Y)\n",
    "\n",
    "# print intercept and coefficients\n",
    "print lm_without.intercept_\n",
    "\n",
    "print lm_without.score(finishers_with_X, finishers_with_Y)"
   ]
  },
  {
   "cell_type": "markdown",
   "metadata": {},
   "source": [
    "As we can see the R-Square is very low on both data sets.\n",
    "\n",
    "Using this input the Linear Regression does not work.\n",
    "\n",
    "This makes sense, since we started with all Categorical Values. Not linear values."
   ]
  },
  {
   "cell_type": "markdown",
   "metadata": {},
   "source": [
    "### Age Group\n",
    "\n",
    "Let's try to group the finishers per age and see whether there was any difference in their average time."
   ]
  },
  {
   "cell_type": "code",
   "execution_count": 24,
   "metadata": {
    "collapsed": false
   },
   "outputs": [
    {
     "data": {
      "text/html": [
       "<div>\n",
       "<table border=\"1\" class=\"dataframe\">\n",
       "  <thead>\n",
       "    <tr style=\"text-align: right;\">\n",
       "      <th></th>\n",
       "      <th>ageClass</th>\n",
       "      <th>treatment</th>\n",
       "      <th>average_time</th>\n",
       "      <th>count</th>\n",
       "    </tr>\n",
       "  </thead>\n",
       "  <tbody>\n",
       "    <tr>\n",
       "      <th>0</th>\n",
       "      <td>20</td>\n",
       "      <td>Control</td>\n",
       "      <td>15047.298724</td>\n",
       "      <td>1724.0</td>\n",
       "    </tr>\n",
       "    <tr>\n",
       "      <th>1</th>\n",
       "      <td>20</td>\n",
       "      <td>Treatment</td>\n",
       "      <td>15183.022767</td>\n",
       "      <td>1713.0</td>\n",
       "    </tr>\n",
       "    <tr>\n",
       "      <th>2</th>\n",
       "      <td>30</td>\n",
       "      <td>Control</td>\n",
       "      <td>14811.069444</td>\n",
       "      <td>1944.0</td>\n",
       "    </tr>\n",
       "    <tr>\n",
       "      <th>3</th>\n",
       "      <td>30</td>\n",
       "      <td>Treatment</td>\n",
       "      <td>14967.121212</td>\n",
       "      <td>1914.0</td>\n",
       "    </tr>\n",
       "    <tr>\n",
       "      <th>4</th>\n",
       "      <td>35</td>\n",
       "      <td>Control</td>\n",
       "      <td>14816.830114</td>\n",
       "      <td>2796.0</td>\n",
       "    </tr>\n",
       "    <tr>\n",
       "      <th>5</th>\n",
       "      <td>35</td>\n",
       "      <td>Treatment</td>\n",
       "      <td>14815.885616</td>\n",
       "      <td>2920.0</td>\n",
       "    </tr>\n",
       "    <tr>\n",
       "      <th>6</th>\n",
       "      <td>40</td>\n",
       "      <td>Control</td>\n",
       "      <td>14833.067041</td>\n",
       "      <td>3386.0</td>\n",
       "    </tr>\n",
       "    <tr>\n",
       "      <th>7</th>\n",
       "      <td>40</td>\n",
       "      <td>Treatment</td>\n",
       "      <td>14977.609589</td>\n",
       "      <td>3358.0</td>\n",
       "    </tr>\n",
       "    <tr>\n",
       "      <th>8</th>\n",
       "      <td>45</td>\n",
       "      <td>Control</td>\n",
       "      <td>14995.994255</td>\n",
       "      <td>2437.0</td>\n",
       "    </tr>\n",
       "    <tr>\n",
       "      <th>9</th>\n",
       "      <td>45</td>\n",
       "      <td>Treatment</td>\n",
       "      <td>15252.463648</td>\n",
       "      <td>2407.0</td>\n",
       "    </tr>\n",
       "    <tr>\n",
       "      <th>10</th>\n",
       "      <td>50</td>\n",
       "      <td>Control</td>\n",
       "      <td>15340.405212</td>\n",
       "      <td>1535.0</td>\n",
       "    </tr>\n",
       "    <tr>\n",
       "      <th>11</th>\n",
       "      <td>50</td>\n",
       "      <td>Treatment</td>\n",
       "      <td>15438.685826</td>\n",
       "      <td>1531.0</td>\n",
       "    </tr>\n",
       "    <tr>\n",
       "      <th>12</th>\n",
       "      <td>55</td>\n",
       "      <td>Control</td>\n",
       "      <td>15756.196769</td>\n",
       "      <td>681.0</td>\n",
       "    </tr>\n",
       "    <tr>\n",
       "      <th>13</th>\n",
       "      <td>55</td>\n",
       "      <td>Treatment</td>\n",
       "      <td>15809.431129</td>\n",
       "      <td>726.0</td>\n",
       "    </tr>\n",
       "    <tr>\n",
       "      <th>14</th>\n",
       "      <td>60</td>\n",
       "      <td>Control</td>\n",
       "      <td>16553.777487</td>\n",
       "      <td>382.0</td>\n",
       "    </tr>\n",
       "    <tr>\n",
       "      <th>15</th>\n",
       "      <td>60</td>\n",
       "      <td>Treatment</td>\n",
       "      <td>16644.393768</td>\n",
       "      <td>353.0</td>\n",
       "    </tr>\n",
       "    <tr>\n",
       "      <th>16</th>\n",
       "      <td>65</td>\n",
       "      <td>Control</td>\n",
       "      <td>17169.206897</td>\n",
       "      <td>174.0</td>\n",
       "    </tr>\n",
       "    <tr>\n",
       "      <th>17</th>\n",
       "      <td>65</td>\n",
       "      <td>Treatment</td>\n",
       "      <td>17332.966102</td>\n",
       "      <td>177.0</td>\n",
       "    </tr>\n",
       "    <tr>\n",
       "      <th>18</th>\n",
       "      <td>70</td>\n",
       "      <td>Control</td>\n",
       "      <td>17539.960000</td>\n",
       "      <td>25.0</td>\n",
       "    </tr>\n",
       "    <tr>\n",
       "      <th>19</th>\n",
       "      <td>70</td>\n",
       "      <td>Treatment</td>\n",
       "      <td>18420.846154</td>\n",
       "      <td>26.0</td>\n",
       "    </tr>\n",
       "    <tr>\n",
       "      <th>20</th>\n",
       "      <td>75</td>\n",
       "      <td>Control</td>\n",
       "      <td>19017.000000</td>\n",
       "      <td>6.0</td>\n",
       "    </tr>\n",
       "    <tr>\n",
       "      <th>21</th>\n",
       "      <td>75</td>\n",
       "      <td>Treatment</td>\n",
       "      <td>19380.500000</td>\n",
       "      <td>4.0</td>\n",
       "    </tr>\n",
       "    <tr>\n",
       "      <th>22</th>\n",
       "      <td>80</td>\n",
       "      <td>Control</td>\n",
       "      <td>20632.500000</td>\n",
       "      <td>2.0</td>\n",
       "    </tr>\n",
       "    <tr>\n",
       "      <th>23</th>\n",
       "      <td>U20</td>\n",
       "      <td>Control</td>\n",
       "      <td>16219.418919</td>\n",
       "      <td>74.0</td>\n",
       "    </tr>\n",
       "    <tr>\n",
       "      <th>24</th>\n",
       "      <td>U20</td>\n",
       "      <td>Treatment</td>\n",
       "      <td>15936.301370</td>\n",
       "      <td>73.0</td>\n",
       "    </tr>\n",
       "  </tbody>\n",
       "</table>\n",
       "</div>"
      ],
      "text/plain": [
       "   ageClass  treatment  average_time   count\n",
       "0        20    Control  15047.298724  1724.0\n",
       "1        20  Treatment  15183.022767  1713.0\n",
       "2        30    Control  14811.069444  1944.0\n",
       "3        30  Treatment  14967.121212  1914.0\n",
       "4        35    Control  14816.830114  2796.0\n",
       "5        35  Treatment  14815.885616  2920.0\n",
       "6        40    Control  14833.067041  3386.0\n",
       "7        40  Treatment  14977.609589  3358.0\n",
       "8        45    Control  14995.994255  2437.0\n",
       "9        45  Treatment  15252.463648  2407.0\n",
       "10       50    Control  15340.405212  1535.0\n",
       "11       50  Treatment  15438.685826  1531.0\n",
       "12       55    Control  15756.196769   681.0\n",
       "13       55  Treatment  15809.431129   726.0\n",
       "14       60    Control  16553.777487   382.0\n",
       "15       60  Treatment  16644.393768   353.0\n",
       "16       65    Control  17169.206897   174.0\n",
       "17       65  Treatment  17332.966102   177.0\n",
       "18       70    Control  17539.960000    25.0\n",
       "19       70  Treatment  18420.846154    26.0\n",
       "20       75    Control  19017.000000     6.0\n",
       "21       75  Treatment  19380.500000     4.0\n",
       "22       80    Control  20632.500000     2.0\n",
       "23      U20    Control  16219.418919    74.0\n",
       "24      U20  Treatment  15936.301370    73.0"
      ]
     },
     "execution_count": 24,
     "metadata": {},
     "output_type": "execute_result"
    }
   ],
   "source": [
    "grouped_by_age = finishers.groupby(['ageClass', 'treatment'])\n",
    "\n",
    "def compute_average(data):\n",
    "    result = {\n",
    "        'average_time': data['netTime'].mean(),\n",
    "        'count': data['netTime'].count()\n",
    "    }\n",
    "    return pd.Series(result)\n",
    "\n",
    "grouped_by_age = grouped_by_age.apply(compute_average)\n",
    "grouped_by_age = grouped_by_age.reset_index()\n",
    "grouped_by_age"
   ]
  },
  {
   "cell_type": "markdown",
   "metadata": {},
   "source": [
    "We can see that there is one age group where no one got shoes\n",
    "\n",
    "Let's remove it from our grouped table"
   ]
  },
  {
   "cell_type": "code",
   "execution_count": 25,
   "metadata": {
    "collapsed": false
   },
   "outputs": [
    {
     "name": "stdout",
     "output_type": "stream",
     "text": [
      "(24, 4)\n"
     ]
    }
   ],
   "source": [
    "grouped_by_age = grouped_by_age[grouped_by_age['ageClass'] != '80']\n",
    "print(grouped_by_age.shape)"
   ]
  },
  {
   "cell_type": "code",
   "execution_count": 26,
   "metadata": {
    "collapsed": false
   },
   "outputs": [
    {
     "data": {
      "text/html": [
       "<div>\n",
       "<table border=\"1\" class=\"dataframe\">\n",
       "  <thead>\n",
       "    <tr style=\"text-align: right;\">\n",
       "      <th></th>\n",
       "      <th>diff_time</th>\n",
       "      <th>total_count</th>\n",
       "    </tr>\n",
       "    <tr>\n",
       "      <th>ageClass</th>\n",
       "      <th></th>\n",
       "      <th></th>\n",
       "    </tr>\n",
       "  </thead>\n",
       "  <tbody>\n",
       "    <tr>\n",
       "      <th>20</th>\n",
       "      <td>-135.724043</td>\n",
       "      <td>3437.0</td>\n",
       "    </tr>\n",
       "    <tr>\n",
       "      <th>30</th>\n",
       "      <td>-156.051768</td>\n",
       "      <td>3858.0</td>\n",
       "    </tr>\n",
       "    <tr>\n",
       "      <th>35</th>\n",
       "      <td>0.944498</td>\n",
       "      <td>5716.0</td>\n",
       "    </tr>\n",
       "    <tr>\n",
       "      <th>40</th>\n",
       "      <td>-144.542548</td>\n",
       "      <td>6744.0</td>\n",
       "    </tr>\n",
       "    <tr>\n",
       "      <th>45</th>\n",
       "      <td>-256.469392</td>\n",
       "      <td>4844.0</td>\n",
       "    </tr>\n",
       "    <tr>\n",
       "      <th>50</th>\n",
       "      <td>-98.280615</td>\n",
       "      <td>3066.0</td>\n",
       "    </tr>\n",
       "    <tr>\n",
       "      <th>55</th>\n",
       "      <td>-53.234360</td>\n",
       "      <td>1407.0</td>\n",
       "    </tr>\n",
       "    <tr>\n",
       "      <th>60</th>\n",
       "      <td>-90.616281</td>\n",
       "      <td>735.0</td>\n",
       "    </tr>\n",
       "    <tr>\n",
       "      <th>65</th>\n",
       "      <td>-163.759205</td>\n",
       "      <td>351.0</td>\n",
       "    </tr>\n",
       "    <tr>\n",
       "      <th>70</th>\n",
       "      <td>-880.886154</td>\n",
       "      <td>51.0</td>\n",
       "    </tr>\n",
       "    <tr>\n",
       "      <th>75</th>\n",
       "      <td>-363.500000</td>\n",
       "      <td>10.0</td>\n",
       "    </tr>\n",
       "    <tr>\n",
       "      <th>U20</th>\n",
       "      <td>283.117549</td>\n",
       "      <td>147.0</td>\n",
       "    </tr>\n",
       "  </tbody>\n",
       "</table>\n",
       "</div>"
      ],
      "text/plain": [
       "           diff_time  total_count\n",
       "ageClass                         \n",
       "20       -135.724043       3437.0\n",
       "30       -156.051768       3858.0\n",
       "35          0.944498       5716.0\n",
       "40       -144.542548       6744.0\n",
       "45       -256.469392       4844.0\n",
       "50        -98.280615       3066.0\n",
       "55        -53.234360       1407.0\n",
       "60        -90.616281        735.0\n",
       "65       -163.759205        351.0\n",
       "70       -880.886154         51.0\n",
       "75       -363.500000         10.0\n",
       "U20       283.117549        147.0"
      ]
     },
     "execution_count": 26,
     "metadata": {},
     "output_type": "execute_result"
    }
   ],
   "source": [
    "grouped_by_age_diff = grouped_by_age.groupby('ageClass')\n",
    "\n",
    "def compute_diff(data):\n",
    "    result = {\n",
    "        'diff_time': data[data['treatment'] == 'Control']['average_time'].values[0] - data[data['treatment'] == 'Treatment']['average_time'].values[0],\n",
    "        'total_count': data['count'].sum()\n",
    "    }\n",
    "    return pd.Series(result)\n",
    "\n",
    "grouped_by_age_diff = grouped_by_age_diff.apply(compute_diff)\n",
    "grouped_by_age_diff"
   ]
  },
  {
   "cell_type": "markdown",
   "metadata": {},
   "source": [
    "As we can see, all the age groups, except Under 20 have a better average time in the Control group.\n",
    "\n",
    "This might mean that in average, the shoes do not help to run faster."
   ]
  },
  {
   "cell_type": "markdown",
   "metadata": {},
   "source": [
    "### Sex Group\n",
    "\n",
    "Let's try to group the finishers per sex and see whether there was any difference in their average time."
   ]
  },
  {
   "cell_type": "code",
   "execution_count": 27,
   "metadata": {
    "collapsed": false
   },
   "outputs": [
    {
     "data": {
      "text/html": [
       "<div>\n",
       "<table border=\"1\" class=\"dataframe\">\n",
       "  <thead>\n",
       "    <tr style=\"text-align: right;\">\n",
       "      <th></th>\n",
       "      <th>sex</th>\n",
       "      <th>treatment</th>\n",
       "      <th>average_time</th>\n",
       "      <th>count</th>\n",
       "    </tr>\n",
       "  </thead>\n",
       "  <tbody>\n",
       "    <tr>\n",
       "      <th>0</th>\n",
       "      <td>M</td>\n",
       "      <td>Control</td>\n",
       "      <td>14761.287839</td>\n",
       "      <td>12236.0</td>\n",
       "    </tr>\n",
       "    <tr>\n",
       "      <th>1</th>\n",
       "      <td>M</td>\n",
       "      <td>Treatment</td>\n",
       "      <td>14621.222476</td>\n",
       "      <td>12262.0</td>\n",
       "    </tr>\n",
       "    <tr>\n",
       "      <th>2</th>\n",
       "      <td>W</td>\n",
       "      <td>Control</td>\n",
       "      <td>16278.356314</td>\n",
       "      <td>2930.0</td>\n",
       "    </tr>\n",
       "    <tr>\n",
       "      <th>3</th>\n",
       "      <td>W</td>\n",
       "      <td>Treatment</td>\n",
       "      <td>17488.956463</td>\n",
       "      <td>2940.0</td>\n",
       "    </tr>\n",
       "  </tbody>\n",
       "</table>\n",
       "</div>"
      ],
      "text/plain": [
       "  sex  treatment  average_time    count\n",
       "0   M    Control  14761.287839  12236.0\n",
       "1   M  Treatment  14621.222476  12262.0\n",
       "2   W    Control  16278.356314   2930.0\n",
       "3   W  Treatment  17488.956463   2940.0"
      ]
     },
     "execution_count": 27,
     "metadata": {},
     "output_type": "execute_result"
    }
   ],
   "source": [
    "grouped_by_sex = finishers.groupby(['sex', 'treatment'])\n",
    "\n",
    "grouped_by_sex = grouped_by_sex.apply(compute_average)\n",
    "grouped_by_sex = grouped_by_sex.reset_index()\n",
    "grouped_by_sex"
   ]
  },
  {
   "cell_type": "code",
   "execution_count": 28,
   "metadata": {
    "collapsed": false
   },
   "outputs": [
    {
     "data": {
      "text/html": [
       "<div>\n",
       "<table border=\"1\" class=\"dataframe\">\n",
       "  <thead>\n",
       "    <tr style=\"text-align: right;\">\n",
       "      <th></th>\n",
       "      <th>diff_time</th>\n",
       "      <th>total_count</th>\n",
       "    </tr>\n",
       "    <tr>\n",
       "      <th>sex</th>\n",
       "      <th></th>\n",
       "      <th></th>\n",
       "    </tr>\n",
       "  </thead>\n",
       "  <tbody>\n",
       "    <tr>\n",
       "      <th>M</th>\n",
       "      <td>140.065363</td>\n",
       "      <td>24498.0</td>\n",
       "    </tr>\n",
       "    <tr>\n",
       "      <th>W</th>\n",
       "      <td>-1210.600149</td>\n",
       "      <td>5870.0</td>\n",
       "    </tr>\n",
       "  </tbody>\n",
       "</table>\n",
       "</div>"
      ],
      "text/plain": [
       "       diff_time  total_count\n",
       "sex                          \n",
       "M     140.065363      24498.0\n",
       "W   -1210.600149       5870.0"
      ]
     },
     "execution_count": 28,
     "metadata": {},
     "output_type": "execute_result"
    }
   ],
   "source": [
    "grouped_by_sex_diff = grouped_by_sex.groupby('sex')\n",
    "grouped_by_sex_diff = grouped_by_sex_diff.apply(compute_diff)\n",
    "grouped_by_sex_diff"
   ]
  },
  {
   "cell_type": "markdown",
   "metadata": {},
   "source": [
    "In this grouping we can see how there is a significance difference between Male and Female in their averages using or not using the shoes.\n",
    "\n",
    "In the Males, the average was 2 minutes faster. Which indicates a better performance in the males with the shoes.\n",
    "\n",
    "In the females, the average was 20 minutes slower. Which is a little bit unbelieavable.\n",
    "\n",
    "This either indicates an error in the data or the worst shoes ever invented for the females.\n",
    "\n",
    "Or just a very bad representation of the females in both groups. The Control and Treatment groups."
   ]
  },
  {
   "cell_type": "markdown",
   "metadata": {},
   "source": [
    "### Group by Sex and Age\n",
    "\n",
    "Now let's make the same analysis differentiation sex and age at the same time."
   ]
  },
  {
   "cell_type": "code",
   "execution_count": 42,
   "metadata": {
    "collapsed": false
   },
   "outputs": [
    {
     "data": {
      "text/html": [
       "<div>\n",
       "<table border=\"1\" class=\"dataframe\">\n",
       "  <thead>\n",
       "    <tr style=\"text-align: right;\">\n",
       "      <th></th>\n",
       "      <th></th>\n",
       "      <th>diff_time</th>\n",
       "      <th>total_count</th>\n",
       "    </tr>\n",
       "    <tr>\n",
       "      <th>sex</th>\n",
       "      <th>ageClass</th>\n",
       "      <th></th>\n",
       "      <th></th>\n",
       "    </tr>\n",
       "  </thead>\n",
       "  <tbody>\n",
       "    <tr>\n",
       "      <th rowspan=\"12\" valign=\"top\">M</th>\n",
       "      <th>20</th>\n",
       "      <td>-154.445398</td>\n",
       "      <td>2559.0</td>\n",
       "    </tr>\n",
       "    <tr>\n",
       "      <th>30</th>\n",
       "      <td>209.335331</td>\n",
       "      <td>3018.0</td>\n",
       "    </tr>\n",
       "    <tr>\n",
       "      <th>35</th>\n",
       "      <td>312.994594</td>\n",
       "      <td>4594.0</td>\n",
       "    </tr>\n",
       "    <tr>\n",
       "      <th>40</th>\n",
       "      <td>197.272283</td>\n",
       "      <td>5405.0</td>\n",
       "    </tr>\n",
       "    <tr>\n",
       "      <th>45</th>\n",
       "      <td>68.740932</td>\n",
       "      <td>3963.0</td>\n",
       "    </tr>\n",
       "    <tr>\n",
       "      <th>50</th>\n",
       "      <td>-102.169222</td>\n",
       "      <td>2579.0</td>\n",
       "    </tr>\n",
       "    <tr>\n",
       "      <th>55</th>\n",
       "      <td>232.247004</td>\n",
       "      <td>1236.0</td>\n",
       "    </tr>\n",
       "    <tr>\n",
       "      <th>60</th>\n",
       "      <td>163.338569</td>\n",
       "      <td>645.0</td>\n",
       "    </tr>\n",
       "    <tr>\n",
       "      <th>65</th>\n",
       "      <td>126.113924</td>\n",
       "      <td>316.0</td>\n",
       "    </tr>\n",
       "    <tr>\n",
       "      <th>70</th>\n",
       "      <td>-745.925000</td>\n",
       "      <td>49.0</td>\n",
       "    </tr>\n",
       "    <tr>\n",
       "      <th>75</th>\n",
       "      <td>-363.500000</td>\n",
       "      <td>10.0</td>\n",
       "    </tr>\n",
       "    <tr>\n",
       "      <th>U20</th>\n",
       "      <td>1011.490909</td>\n",
       "      <td>122.0</td>\n",
       "    </tr>\n",
       "    <tr>\n",
       "      <th rowspan=\"11\" valign=\"top\">W</th>\n",
       "      <th>20</th>\n",
       "      <td>-127.652507</td>\n",
       "      <td>878.0</td>\n",
       "    </tr>\n",
       "    <tr>\n",
       "      <th>30</th>\n",
       "      <td>-1465.639999</td>\n",
       "      <td>840.0</td>\n",
       "    </tr>\n",
       "    <tr>\n",
       "      <th>35</th>\n",
       "      <td>-1261.202658</td>\n",
       "      <td>1122.0</td>\n",
       "    </tr>\n",
       "    <tr>\n",
       "      <th>40</th>\n",
       "      <td>-1595.799861</td>\n",
       "      <td>1339.0</td>\n",
       "    </tr>\n",
       "    <tr>\n",
       "      <th>45</th>\n",
       "      <td>-1614.838174</td>\n",
       "      <td>881.0</td>\n",
       "    </tr>\n",
       "    <tr>\n",
       "      <th>50</th>\n",
       "      <td>-168.751502</td>\n",
       "      <td>487.0</td>\n",
       "    </tr>\n",
       "    <tr>\n",
       "      <th>55</th>\n",
       "      <td>-2132.768620</td>\n",
       "      <td>171.0</td>\n",
       "    </tr>\n",
       "    <tr>\n",
       "      <th>60</th>\n",
       "      <td>-1123.266968</td>\n",
       "      <td>90.0</td>\n",
       "    </tr>\n",
       "    <tr>\n",
       "      <th>65</th>\n",
       "      <td>-2294.457237</td>\n",
       "      <td>35.0</td>\n",
       "    </tr>\n",
       "    <tr>\n",
       "      <th>70</th>\n",
       "      <td>-4442.000000</td>\n",
       "      <td>2.0</td>\n",
       "    </tr>\n",
       "    <tr>\n",
       "      <th>U20</th>\n",
       "      <td>-910.230159</td>\n",
       "      <td>25.0</td>\n",
       "    </tr>\n",
       "  </tbody>\n",
       "</table>\n",
       "</div>"
      ],
      "text/plain": [
       "                diff_time  total_count\n",
       "sex ageClass                          \n",
       "M   20        -154.445398       2559.0\n",
       "    30         209.335331       3018.0\n",
       "    35         312.994594       4594.0\n",
       "    40         197.272283       5405.0\n",
       "    45          68.740932       3963.0\n",
       "    50        -102.169222       2579.0\n",
       "    55         232.247004       1236.0\n",
       "    60         163.338569        645.0\n",
       "    65         126.113924        316.0\n",
       "    70        -745.925000         49.0\n",
       "    75        -363.500000         10.0\n",
       "    U20       1011.490909        122.0\n",
       "W   20        -127.652507        878.0\n",
       "    30       -1465.639999        840.0\n",
       "    35       -1261.202658       1122.0\n",
       "    40       -1595.799861       1339.0\n",
       "    45       -1614.838174        881.0\n",
       "    50        -168.751502        487.0\n",
       "    55       -2132.768620        171.0\n",
       "    60       -1123.266968         90.0\n",
       "    65       -2294.457237         35.0\n",
       "    70       -4442.000000          2.0\n",
       "    U20       -910.230159         25.0"
      ]
     },
     "execution_count": 42,
     "metadata": {},
     "output_type": "execute_result"
    }
   ],
   "source": [
    "grouped_by_sex_age = finishers.groupby(['sex', 'ageClass', 'treatment'])\n",
    "\n",
    "grouped_by_sex_age = grouped_by_sex_age.apply(compute_average)\n",
    "grouped_by_sex_age = grouped_by_sex_age.reset_index()\n",
    "\n",
    "grouped_by_sex_age = grouped_by_sex_age[grouped_by_sex_age['ageClass'] != '80']\n",
    "\n",
    "grouped_by_sex_age_diff = grouped_by_sex_age.groupby(['sex', 'ageClass'])\n",
    "grouped_by_sex_age_diff = grouped_by_sex_age_diff.apply(compute_diff)\n",
    "\n",
    "grouped_by_sex_age_diff"
   ]
  },
  {
   "cell_type": "markdown",
   "metadata": {},
   "source": [
    "When we analyzed the Age Class by itself, we saw that the average time was worse for all of them.\n",
    "\n",
    "However, when analyzing the Age Class with the Sex. We learned that there are Age Classes where the Male benefit from it.\n",
    "\n",
    "It was the female average time that was pushing down the average of the whole Age Class"
   ]
  },
  {
   "cell_type": "markdown",
   "metadata": {},
   "source": [
    "# Conclusion\n",
    "\n",
    "Linear Regression is not helpful.\n",
    "\n",
    "The shoes seem to make the females much slower.\n",
    "\n",
    "The Males in general seem to perform better with the shoes."
   ]
  },
  {
   "cell_type": "code",
   "execution_count": null,
   "metadata": {
    "collapsed": true
   },
   "outputs": [],
   "source": []
  }
 ],
 "metadata": {
  "anaconda-cloud": {},
  "kernelspec": {
   "display_name": "Python [conda root]",
   "language": "python",
   "name": "conda-root-py"
  },
  "language_info": {
   "codemirror_mode": {
    "name": "ipython",
    "version": 2
   },
   "file_extension": ".py",
   "mimetype": "text/x-python",
   "name": "python",
   "nbconvert_exporter": "python",
   "pygments_lexer": "ipython2",
   "version": "2.7.12"
  }
 },
 "nbformat": 4,
 "nbformat_minor": 1
}
